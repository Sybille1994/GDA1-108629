{
 "cells": [
  {
   "cell_type": "code",
   "execution_count": null,
   "id": "9de387de-93a4-45ce-970a-b8ee98c4f39b",
   "metadata": {},
   "outputs": [],
   "source": []
  }
 ],
 "metadata": {
  "kernelspec": {
   "display_name": "",
   "name": ""
  },
  "language_info": {
   "name": ""
  }
 },
 "nbformat": 4,
 "nbformat_minor": 5
}
