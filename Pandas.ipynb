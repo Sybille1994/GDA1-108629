{
 "cells": [
  {
   "cell_type": "markdown",
   "id": "3cb36bf0-2429-4a54-b3e7-c074e44bb411",
   "metadata": {},
   "source": [
    "# **Introduction to Pandas DataFrames**"
   ]
  },
  {
   "cell_type": "markdown",
   "id": "2787fd86-718f-4055-9eb0-8a076a688a54",
   "metadata": {},
   "source": [
    "![Bild eines Pandas](Pandas.webp)"
   ]
  },
  {
   "cell_type": "markdown",
   "id": "201d1fec-1b0a-4852-9536-dcd255d88c73",
   "metadata": {},
   "source": [
    "[Pandas](https://pandas.pydata.org/) is a powerful and versatile library for Python, designed primarily for data manipulation and analysis. To quote from Nvidia’s website:"
   ]
  },
  {
   "cell_type": "markdown",
   "id": "55e53dd4-03e7-4c37-95fe-44e4546f2822",
   "metadata": {},
   "source": [
    ">Pandas is the most popular software library for data manipulation and data analysis for the Python programming language. [(www.nvidia.com)](https://www.nvidia.com/en-us/glossary/pandas-python/)"
   ]
  },
  {
   "cell_type": "markdown",
   "id": "6152e052-93de-4937-905b-f6839b60644e",
   "metadata": {},
   "source": [
    "Here is an (incomplete) list of some key functionalities provided by Pandas:\n",
    "\n",
    "1. **Data Structures**\n",
    "    - *Series*: One-dimensional labeled array capable of holding data of any type.\n",
    "    - *DataFrame*: Two-dimensional, size-mutable, potentially heterogeneous tabular data structure with labeled axes (rows and columns).\n",
    "\n",
    "2. **Data Manipulation**\n",
    "    - *Data Selection and Indexing*: Access data via labels, indices, or boolean masks (.loc, .iloc, .at, .iat).\n",
    "    - *Filtering*: Filter data based on conditions or queries.\n",
    "    - *Sorting*: Sort data by labels or values.\n",
    "    - *Handling Missing Data*: Identify, fill, or drop missing values (isnull, dropna, fillna).\n",
    "\n",
    "3. **Data Cleaning**\n",
    "    - *Dropping Duplicates*: Remove duplicate rows or columns.\n",
    "    - *Replacing Values*: Replace specific values in the DataFrame.\n",
    "    - *String Operations*: Perform operations on string data, like splitting, replacing, and pattern matching (str.split, str.replace).\n",
    "\n",
    "4. **Aggregation and Grouping**\n",
    "    - *Group By*: Split data into groups based on criteria, and perform aggregate functions like sum, mean, or custom operations.\n",
    "    - *Pivot Tables*: Create a pivot table to summarize data.\n",
    "\n",
    "5. **Merging and Joining**\n",
    "    - *Concatenation*: Combine multiple DataFrames along a particular axis.\n",
    "    - *Merging*: Merge DataFrames similar to SQL joins (merge, join).\n",
    "\n",
    "6. **Time Series**\n",
    "    - *Datetime Conversion*: Convert date and time data to a datetime object.\n",
    "    - *Resampling*: Aggregate data over a time period.\n",
    "    - *Time-based Indexing*: Access and manipulate time-series data easily with date indexing.\n",
    "\n",
    "7. **Statistical and Mathematical Operations**\n",
    "    - *Descriptive Statistics*: Compute summary statistics for DataFrame columns.\n",
    "    - *Correlation/ Covariance*: Calculate the pairwise correlation or covariance between columns.\n",
    "    - *Cumulative Operations*: Perform cumulative operations on data.\n"
   ]
  }
 ],
 "metadata": {
  "kernelspec": {
   "display_name": "Python [conda env:base] *",
   "language": "python",
   "name": "conda-base-py"
  },
  "language_info": {
   "codemirror_mode": {
    "name": "ipython",
    "version": 3
   },
   "file_extension": ".py",
   "mimetype": "text/x-python",
   "name": "python",
   "nbconvert_exporter": "python",
   "pygments_lexer": "ipython3",
   "version": "3.12.7"
  }
 },
 "nbformat": 4,
 "nbformat_minor": 5
}
